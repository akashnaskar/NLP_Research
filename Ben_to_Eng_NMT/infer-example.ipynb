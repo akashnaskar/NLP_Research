{
 "cells": [
  {
   "cell_type": "code",
   "execution_count": 21,
   "metadata": {},
   "outputs": [],
   "source": [
    "from translator import infer\n",
    "from translator import utils\n",
    "from translator import models\n",
    "from translator import config as cfg\n",
    "# from translator import train\n",
    "\n",
    "import tensorflow as tf"
   ]
  },
  {
   "cell_type": "code",
   "execution_count": 7,
   "metadata": {},
   "outputs": [
    {
     "name": "stdout",
     "output_type": "stream",
     "text": [
      "Loading: models/input_language_tokenizer.json\n",
      "Loading: models/target_language_tokenizer.json\n"
     ]
    }
   ],
   "source": [
    "# load input and terget language tokenizer\n",
    "input_language_tokenizer = utils.load_tokenizer('models/input_language_tokenizer.json')\n",
    "target_language_tokenizer = utils.load_tokenizer('models/target_language_tokenizer.json')\n",
    "\n",
    "# init vocab size for input and terget language\n",
    "vocab_inp_size = len(input_language_tokenizer.word_index)+1\n",
    "vocab_tar_size = len(target_language_tokenizer.word_index)+1\n",
    "\n",
    "# init encoder & decoder model\n",
    "encoder = models.Encoder(vocab_inp_size, cfg.EMBEDDING_DIM, cfg.UNITS, cfg.BATCH_SIZE)\n",
    "decoder = models.Decoder(vocab_tar_size, cfg.EMBEDDING_DIM, cfg.UNITS, cfg.BATCH_SIZE)"
   ]
  },
  {
   "cell_type": "code",
   "execution_count": 8,
   "metadata": {},
   "outputs": [
    {
     "data": {
      "text/plain": [
       "<tensorflow.python.checkpoint.checkpoint.CheckpointLoadStatus at 0x201b2b0afd0>"
      ]
     },
     "execution_count": 8,
     "metadata": {},
     "output_type": "execute_result"
    }
   ],
   "source": [
    "# restore model from checkpoints\n",
    "checkpoint_dir = 'models/training_checkpoints'\n",
    "checkpoint = tf.train.Checkpoint(encoder=encoder, decoder=decoder)\n",
    "checkpoint.restore(tf.train.latest_checkpoint(checkpoint_dir))"
   ]
  },
  {
   "cell_type": "code",
   "execution_count": 9,
   "metadata": {},
   "outputs": [],
   "source": [
    "predictor = infer.Infer(\n",
    "    input_language_tokenizer=input_language_tokenizer,\n",
    "    target_language_tokenizer=target_language_tokenizer,\n",
    "    max_length_input=cfg.MAX_INPUT_LANG_LEN,\n",
    "    max_length_target=cfg.MAX_TARGET_LANG_LEN,\n",
    "    encoder=encoder,\n",
    "    decoder=decoder,\n",
    "    units=cfg.UNITS\n",
    ")"
   ]
  },
  {
   "cell_type": "code",
   "execution_count": 10,
   "metadata": {},
   "outputs": [
    {
     "name": "stdout",
     "output_type": "stream",
     "text": [
      "Translated text: wake up . <end> \n"
     ]
    }
   ],
   "source": [
    "translated_text = predictor.predict(\"ঘুম থেকে ওঠ\")\n",
    "print(\"Translated text: {}\".format(translated_text))"
   ]
  },
  {
   "cell_type": "code",
   "execution_count": 11,
   "metadata": {},
   "outputs": [
    {
     "name": "stdout",
     "output_type": "stream",
     "text": [
      "Translated text: i'm cold . <end> \n"
     ]
    }
   ],
   "source": [
    "translated_text = predictor.predict(\"আমার শীত করছে।\")\n",
    "print(\"Translated text: {}\".format(translated_text))"
   ]
  },
  {
   "cell_type": "code",
   "execution_count": 12,
   "metadata": {},
   "outputs": [
    {
     "name": "stdout",
     "output_type": "stream",
     "text": [
      "Translated text: may i eat ? <end> \n"
     ]
    }
   ],
   "source": [
    "translated_text = predictor.predict(\"আমি কি খেতে পারি?\")\n",
    "print(\"Translated text: {}\".format(translated_text))"
   ]
  },
  {
   "cell_type": "code",
   "execution_count": 9,
   "metadata": {},
   "outputs": [
    {
     "name": "stdout",
     "output_type": "stream",
     "text": [
      "Translated text: they all screamed . <end> \n"
     ]
    }
   ],
   "source": [
    "translated_text = predictor.predict(\"ওনারা সবাই চিৎকার করলেন।\")\n",
    "print(\"Translated text: {}\".format(translated_text))"
   ]
  },
  {
   "cell_type": "code",
   "execution_count": 13,
   "metadata": {},
   "outputs": [
    {
     "name": "stdout",
     "output_type": "stream",
     "text": [
      "Translated text: do you understand me ? <end> \n"
     ]
    }
   ],
   "source": [
    "translated_text = predictor.predict(\"আপনি কি আমার কথা বুঝতে পারছেন?\")\n",
    "print(\"Translated text: {}\".format(translated_text))\n"
   ]
  },
  {
   "cell_type": "code",
   "execution_count": 16,
   "metadata": {},
   "outputs": [
    {
     "name": "stdout",
     "output_type": "stream",
     "text": [
      "Translated text: you go first . <end> \n"
     ]
    }
   ],
   "source": [
    "translated_text = predictor.predict(\"তুমি কি কর\")\n",
    "print(\"Translated text: {}\".format(translated_text))"
   ]
  },
  {
   "cell_type": "code",
   "execution_count": null,
   "metadata": {},
   "outputs": [],
   "source": []
  }
 ],
 "metadata": {
  "kernelspec": {
   "display_name": "Python 3.9.13 ('TF_2')",
   "language": "python",
   "name": "python3"
  },
  "language_info": {
   "codemirror_mode": {
    "name": "ipython",
    "version": 3
   },
   "file_extension": ".py",
   "mimetype": "text/x-python",
   "name": "python",
   "nbconvert_exporter": "python",
   "pygments_lexer": "ipython3",
   "version": "3.9.13"
  },
  "vscode": {
   "interpreter": {
    "hash": "09cbb61f1661584f17ddcc6bc1086029af401c711d41d1c29f8bd3a52c374d4c"
   }
  }
 },
 "nbformat": 4,
 "nbformat_minor": 4
}
